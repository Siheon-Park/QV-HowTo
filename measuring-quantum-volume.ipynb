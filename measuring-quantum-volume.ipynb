{
 "cells": [
  {
   "cell_type": "markdown",
   "metadata": {
    "tags": [
     "remove_cell"
    ]
   },
   "source": [
    "# Measuring Quantum Volume"
   ]
  },
  {
   "cell_type": "markdown",
   "metadata": {},
   "source": [
    "## Introduction\n",
    "\n",
    "**Quantum Volume (QV)** is a single-number metric that can be measured using a concrete\n",
    "protocol on near-term quantum computers of modest size. The QV method quantifies\n",
    "the largest random circuit of equal width and depth that the computer successfully implements.\n",
    "Quantum computing systems with high-fidelity operations, high connectivity, large calibrated gate\n",
    "sets, and circuit rewriting toolchains are expected to have higher quantum volumes. \n",
    "\n",
    "\n",
    "## The Quantum Volume Protocol\n",
    "\n",
    "A QV protocol (see [1]) consists of the following steps:\n",
    "\n",
    "(We should first import the relevant qiskit classes for the demonstration)."
   ]
  },
  {
   "cell_type": "code",
   "execution_count": 1,
   "metadata": {},
   "outputs": [],
   "source": [
    "import matplotlib.pyplot as plt\n",
    "from IPython.display import clear_output\n",
    "from tqdm.notebook import tqdm\n",
    "\n",
    "#Import Qiskit classes\n",
    "import qiskit\n",
    "from qiskit import assemble, transpile\n",
    "from qiskit.providers.aer.noise import NoiseModel\n",
    "from qiskit.providers.aer.noise.errors.standard_errors import depolarizing_error, thermal_relaxation_error\n",
    "from qiskit.providers.aer import AerSimulator\n",
    "from qiskit.utils import QuantumInstance\n",
    "\n",
    "#Import the qv function\n",
    "import qiskit.ignis.verification.quantum_volume as qv\n",
    "\n",
    "from qiskit import IBMQ\n",
    "if IBMQ.active_account() is None:\n",
    "    IBMQ.load_account()\n",
    "provider = IBMQ.get_provider(hub='ibm-q-kaist', group='internal', project='default')\n",
    "backend = provider.get_backend('ibmq_montreal')\n",
    "# backend = AerSimulator.from_backend(backend)\n",
    "quantum_instance = QuantumInstance(backend=backend, shots=2**13)"
   ]
  },
  {
   "cell_type": "code",
   "execution_count": 2,
   "outputs": [],
   "source": [
    "basis_gates = backend.configuration().basis_gates"
   ],
   "metadata": {
    "collapsed": false,
    "pycharm": {
     "name": "#%%\n"
    }
   }
  },
  {
   "cell_type": "markdown",
   "metadata": {},
   "source": [
    "### Step 1: Generate QV sequences\n",
    "\n",
    "It is well-known that quantum algorithms can be expressed as polynomial-sized quantum circuits built from two-qubit unitary gates. Therefore, a model circuit consists of $d$ layers of random permutations of the qubit labels, followed by random two-qubit gates (from $SU(4)$). When the circuit width $m$ is odd, one of the qubits is idle in each layer.\n",
    "\n",
    "More precisely, a **QV circuit** with **depth $d$** and **width $m$**, is a sequence $U = U^{(d)}...U^{(2)}U^{(1)}$ of $d$ layers:\n",
    "\n",
    "\n",
    "$$ U^{(t)} = U^{(t)}_{\\pi_t(m'-1),\\pi_t(m)} \\otimes ... \\otimes U^{(t)}_{\\pi_t(1),\\pi_t(2)} $$\n",
    "\n",
    "\n",
    "each labeled by times $t = 1 ... d$ and acting on $m' = 2 \\lfloor n/2 \\rfloor$ qubits. \n",
    "Each layer is specified by choosing a uniformly random permutation $\\pi_t \\in S_m$ of the $m$ qubit indices\n",
    "and sampling each $U^{(t)}_{a,b}$, acting on qubits $a$ and $b$, from the Haar measure on $SU(4)$.\n",
    "\n",
    "In the following example we have 6 qubits Q0,Q1,Q3,Q5,Q7,Q10. We are going to look at subsets up to the full set\n",
    "(each volume circuit will be depth equal to the number of qubits in the subset)"
   ]
  },
  {
   "cell_type": "code",
   "execution_count": 3,
   "metadata": {},
   "outputs": [],
   "source": [
    "# qubit_lists: list of list of qubit subsets to generate QV circuits\n",
    "qubit_lists = [[0, 1, 2, 3, 5, 8], [0, 1, 2, 3, 5, 8, 11], [0, 1, 2, 3, 5, 8, 11, 14], [0, 1, 2, 3, 5, 8, 11, 14, 13]]\n",
    "# ntrials: Number of random circuits to create for each subset\n",
    "ntrials = 100"
   ]
  },
  {
   "cell_type": "markdown",
   "metadata": {},
   "source": [
    "We generate the quantum volume sequences. We start with a small example (so it doesn't take too long to run)."
   ]
  },
  {
   "cell_type": "code",
   "execution_count": 4,
   "metadata": {},
   "outputs": [],
   "source": [
    "import warnings\n",
    "warnings.filterwarnings('ignore')\n",
    "qv_circs, qv_circs_nomeas = qv.qv_circuits(qubit_lists, ntrials)"
   ]
  },
  {
   "cell_type": "markdown",
   "metadata": {},
   "source": [
    "As an example, we print the circuit corresponding to the first QV sequence. Note that the ideal circuits are run on the first n qubits (where n is the number of qubits in the subset)."
   ]
  },
  {
   "cell_type": "code",
   "execution_count": 5,
   "metadata": {},
   "outputs": [],
   "source": [
    "# pass the first trial of the nomeas through the transpiler to illustrate the circuit\n",
    "#qv_circs_nomeas[0] = qiskit.compiler.transpile(qv_circs_nomeas[0], basis_gates=basis_gates)"
   ]
  },
  {
   "cell_type": "code",
   "execution_count": 6,
   "metadata": {},
   "outputs": [
    {
     "data": {
      "text/plain": "     ┌───────────────────────────┐\nq_0: ┤0                          ├\n     │                           │\nq_1: ┤1                          ├\n     │                           │\nq_2: ┤2                          ├\n     │  quantum_volume_[6,6,408] │\nq_3: ┤3                          ├\n     │                           │\nq_4: ┤4                          ├\n     │                           │\nq_5: ┤5                          ├\n     └───────────────────────────┘",
      "text/html": "<pre style=\"word-wrap: normal;white-space: pre;background: #fff0;line-height: 1.1;font-family: &quot;Courier New&quot;,Courier,monospace\">     ┌───────────────────────────┐\nq_0: ┤0                          ├\n     │                           │\nq_1: ┤1                          ├\n     │                           │\nq_2: ┤2                          ├\n     │  quantum_volume_[6,6,408] │\nq_3: ┤3                          ├\n     │                           │\nq_4: ┤4                          ├\n     │                           │\nq_5: ┤5                          ├\n     └───────────────────────────┘</pre>"
     },
     "execution_count": 6,
     "metadata": {},
     "output_type": "execute_result"
    }
   ],
   "source": [
    "qv_circs_nomeas[0][0].draw(fold=-1)"
   ]
  },
  {
   "cell_type": "markdown",
   "metadata": {},
   "source": [
    "### Step 2: Simulate the ideal QV circuits\n",
    "\n",
    "The quantum volume method requires that we know the ideal output for each circuit, so we use the statevector simulator in Aer to get the ideal result."
   ]
  },
  {
   "cell_type": "code",
   "execution_count": 7,
   "metadata": {},
   "outputs": [
    {
     "data": {
      "text/plain": "  0%|          | 0/100 [00:00<?, ?it/s]",
      "application/vnd.jupyter.widget-view+json": {
       "version_major": 2,
       "version_minor": 0,
       "model_id": "623ede26bb20469493089321ed65f2db"
      }
     },
     "metadata": {},
     "output_type": "display_data"
    }
   ],
   "source": [
    "# sv_sim = qiskit.Aer.get_backend('aer_simulator')\n",
    "sv_sim = QuantumInstance(backend=AerSimulator(), shots=2**13)\n",
    "ideal_results = []\n",
    "for trial in tqdm(range(ntrials)):\n",
    "    # clear_output(wait=True)\n",
    "    for qc in qv_circs_nomeas[trial]:\n",
    "        qc.save_statevector()\n",
    "    #result = qiskit.execute(qv_circs_nomeas[trial], backend=sv_sim).result()\n",
    "    result = sv_sim.execute(qv_circs_nomeas[trial])\n",
    "    ideal_results.append(result)\n",
    "    # print(f'Simulated trial {trial+1}/{ntrials}')"
   ]
  },
  {
   "cell_type": "markdown",
   "metadata": {},
   "source": [
    "Next, we load the ideal results into a quantum volume fitter"
   ]
  },
  {
   "cell_type": "code",
   "execution_count": 8,
   "metadata": {},
   "outputs": [],
   "source": [
    "qv_fitter = qv.QVFitter(qubit_lists=qubit_lists)\n",
    "qv_fitter.add_statevectors(ideal_results)"
   ]
  },
  {
   "cell_type": "markdown",
   "metadata": {},
   "source": [
    "### Step 3: Calculate the heavy outputs\n",
    "\n",
    "To define when a model circuit $U$ has been successfully implemented in practice, we use the *heavy output* generation problem. The ideal output distribution is $p_U(x) = |\\langle x|U|0 \\rangle|^2$, \n",
    "where $x \\in \\{0,1\\}^m$ is an observable bit-string. \n",
    "\n",
    "Consider the set of output probabilities given by the range of $p_U(x)$ sorted in ascending order \n",
    "$p_0 \\leq p_1 \\leq \\dots \\leq p_{2^m-1}$. The median of the set of probabilities is \n",
    "$p_{med} = (p_{2^{m-1}} + p_{2^{m-1}-1})/2$, and the *heavy outputs* are\n",
    "\n",
    "\n",
    "$$ H_U = \\{ x \\in \\{0,1\\}^m \\text{ such that } p_U(x)>p_{med} \\}.$$\n",
    "\n",
    "\n",
    "The heavy output generation problem is to produce a set of output strings such that more than two-thirds are heavy.\n",
    "\n",
    "As an illustration, we print the heavy outputs from various depths and their probabilities (for trial 0):"
   ]
  },
  {
   "cell_type": "code",
   "execution_count": 9,
   "metadata": {},
   "outputs": [
    {
     "name": "stdout",
     "output_type": "stream",
     "text": [
      "qv_depth_6_trial_0: ['000001', '000010', '000101', '000111', '001000', '001010', '001111', '010000', '010011', '010101', '011000', '011001', '011011', '011101', '100000', '100001', '100010', '100110', '101000', '101011', '101101', '101110', '101111', '110010', '110011', '110101', '110111', '111000', '111001', '111100', '111110', '111111']\n",
      "qv_depth_7_trial_0: ['0000001', '0000010', '0000011', '0000100', '0000101', '0000110', '0000111', '0001001', '0001010', '0001011', '0001100', '0001110', '0010001', '0010011', '0010100', '0010101', '0010110', '0010111', '0011011', '0011100', '0011101', '0011111', '0100100', '0100110', '0100111', '0101100', '0101111', '0110001', '0110011', '0110101', '0110110', '0110111', '0111100', '0111111', '1000001', '1000010', '1000011', '1000100', '1000110', '1000111', '1001001', '1001100', '1001101', '1001111', '1010000', '1010100', '1010101', '1010110', '1011001', '1011010', '1011110', '1100000', '1100011', '1100100', '1100110', '1100111', '1101010', '1110000', '1110001', '1110010', '1110011', '1110110', '1110111', '1111110']\n",
      "qv_depth_8_trial_0: ['00000100', '00000101', '00001001', '00001100', '00001110', '00010010', '00010100', '00010101', '00010111', '00011011', '00011101', '00100001', '00100111', '00101000', '00101011', '00101100', '00101101', '00110001', '00110010', '00110011', '00110100', '00110111', '00111011', '00111100', '01000000', '01000001', '01000011', '01000101', '01001001', '01001100', '01001110', '01001111', '01010001', '01010010', '01010100', '01010101', '01010110', '01010111', '01011011', '01100011', '01100101', '01100110', '01100111', '01101010', '01101011', '01101101', '01101110', '01110010', '01110011', '01110101', '01111000', '01111001', '01111010', '01111011', '01111101', '01111110', '10000000', '10000010', '10000011', '10000101', '10000111', '10001000', '10001001', '10001100', '10001110', '10010000', '10010001', '10010100', '10010101', '10011000', '10011001', '10011101', '10011110', '10100001', '10100101', '10100111', '10101000', '10101001', '10101011', '10101100', '10101101', '10101110', '10110000', '10110010', '10110100', '10110101', '10110110', '10111000', '10111001', '11000000', '11000001', '11000011', '11000100', '11000101', '11001000', '11001010', '11001100', '11001111', '11010000', '11010011', '11010100', '11010101', '11010110', '11010111', '11011001', '11011011', '11011100', '11011110', '11011111', '11100001', '11100010', '11100011', '11100110', '11101000', '11101001', '11101010', '11101011', '11101100', '11101101', '11101111', '11110001', '11110110', '11110111', '11111000', '11111001', '11111100', '11111110', '11111111']\n",
      "qv_depth_9_trial_0: ['000000000', '000000011', '000000100', '000001010', '000001011', '000001100', '000001101', '000010101', '000011000', '000011001', '000011010', '000011011', '000011100', '000011101', '000100010', '000100101', '000100111', '000101001', '000101011', '000101100', '000101101', '000101110', '000110001', '000110010', '000110011', '000110100', '000110101', '000111000', '000111001', '000111011', '000111100', '001000000', '001000010', '001000011', '001000100', '001000101', '001001000', '001001011', '001001100', '001001110', '001010010', '001010100', '001010110', '001011001', '001011010', '001011011', '001011100', '001011101', '001100000', '001100001', '001100010', '001100100', '001100101', '001100110', '001101001', '001101010', '001101011', '001101101', '001101111', '001110100', '001111000', '001111001', '001111010', '001111011', '001111100', '001111101', '001111110', '001111111', '010000100', '010001010', '010001101', '010010000', '010010001', '010010010', '010010011', '010011001', '010011010', '010011011', '010011100', '010011101', '010011110', '010100001', '010100011', '010100100', '010100101', '010100110', '010100111', '010101001', '010101011', '010101101', '010101110', '010101111', '010110000', '010110001', '010110010', '010110011', '010110101', '010111001', '010111010', '010111011', '010111100', '010111101', '011000000', '011000001', '011000011', '011000100', '011000101', '011001000', '011001001', '011001100', '011010000', '011010001', '011010100', '011010101', '011011001', '011011010', '011011100', '011011101', '011011110', '011100000', '011100001', '011100100', '011101010', '011101011', '011101100', '011101110', '011110001', '011110010', '011110100', '011110101', '011110110', '011111000', '011111001', '011111011', '011111100', '011111101', '011111110', '011111111', '100000100', '100000101', '100001011', '100001100', '100001110', '100010000', '100010001', '100010011', '100010100', '100010101', '100010111', '100011100', '100100000', '100100010', '100100011', '100100101', '100101000', '100101001', '100101100', '100101101', '100110001', '100110011', '100110100', '100110101', '100110110', '100110111', '100111000', '100111001', '100111010', '100111011', '100111101', '101000011', '101000100', '101000101', '101001010', '101001011', '101010011', '101010100', '101010101', '101011001', '101011100', '101011101', '101100001', '101100010', '101100100', '101101101', '101110000', '101110001', '101110010', '101110011', '101110100', '101110101', '101111010', '101111011', '101111100', '101111101', '101111110', '101111111', '110000000', '110001001', '110001010', '110001011', '110001100', '110010000', '110010001', '110010010', '110010011', '110010100', '110010111', '110011000', '110011010', '110011011', '110011101', '110011111', '110100001', '110100011', '110100100', '110101001', '110101010', '110110001', '110110010', '110110100', '110110101', '110110110', '110111000', '110111001', '110111010', '110111011', '110111100', '110111101', '111000000', '111000011', '111000111', '111001001', '111001101', '111010000', '111010001', '111010010', '111010100', '111011000', '111011010', '111011100', '111011101', '111100101', '111101010', '111101100', '111101101', '111101111', '111110001', '111110010', '111110011', '111110100', '111110101', '111111000', '111111001', '111111011', '111111101', '111111110']\n"
     ]
    }
   ],
   "source": [
    "for qubit_list in qubit_lists:\n",
    "    l = len(qubit_list)\n",
    "    print ('qv_depth_'+str(l)+'_trial_0:', qv_fitter._heavy_outputs['qv_depth_'+str(l)+'_trial_0'])"
   ]
  },
  {
   "cell_type": "code",
   "execution_count": 10,
   "metadata": {},
   "outputs": [
    {
     "name": "stdout",
     "output_type": "stream",
     "text": [
      "qv_depth_6_trial_0: 0.8802063796903119\n",
      "qv_depth_7_trial_0: 0.8616476384039718\n",
      "qv_depth_8_trial_0: 0.8412642596447292\n",
      "qv_depth_9_trial_0: 0.871370066131173\n"
     ]
    }
   ],
   "source": [
    "for qubit_list in qubit_lists:\n",
    "    l = len(qubit_list)\n",
    "    print ('qv_depth_'+str(l)+'_trial_0:', qv_fitter._heavy_output_prob_ideal['qv_depth_'+str(l)+'_trial_0'])\n"
   ]
  },
  {
   "cell_type": "code",
   "execution_count": 11,
   "metadata": {},
   "outputs": [
    {
     "data": {
      "text/plain": "  0%|          | 0/100 [00:00<?, ?it/s]",
      "application/vnd.jupyter.widget-view+json": {
       "version_major": 2,
       "version_minor": 0,
       "model_id": "45f2191a33724ddba1c5ca18062827a8"
      }
     },
     "metadata": {},
     "output_type": "display_data"
    }
   ],
   "source": [
    "exp_results = []\n",
    "for trial in tqdm(range(ntrials)):\n",
    "    #clear_output(wait=True)\n",
    "    # t_qcs = transpile(qv_circs[trial], basis_gates=basis_gates, optimization_level=3)\n",
    "    # qobj = assemble(t_qcs)\n",
    "    # result = backend.run(qobj, max_parallel_experiments=0, shots=2**13).result()\n",
    "    result = quantum_instance.execute(qv_circs[trial])\n",
    "    exp_results.append(result)\n",
    "    #print(f'Completed trial {trial+1}/{ntrials}')"
   ]
  },
  {
   "cell_type": "markdown",
   "metadata": {},
   "source": [
    "### Step 5: Calculate the average gate fidelity\n",
    "\n",
    "The *average gate fidelity* between the $m$-qubit ideal unitaries $U$ and the executed $U'$ is:\n",
    "\n",
    "\n",
    "$$ F_{avg}(U,U') = \\frac{|Tr(U^{\\dagger}U')|^2/2^m+1}{2^m+1}$$\n",
    "\n",
    "\n",
    "\n",
    "The observed distribution for an implementation $U'$ of model circuit $U$ is $q_U(x)$, and the probability of sampling\n",
    "a heavy output is:\n",
    "\n",
    "\n",
    "$$ h_U = \\sum_{x \\in H_U} q_U(x)$$\n",
    "\n",
    "\n",
    "\n",
    "As an illustration, we print the heavy output counts from various depths (for trial 0):"
   ]
  },
  {
   "cell_type": "code",
   "execution_count": null,
   "metadata": {},
   "outputs": [],
   "source": [
    "qv_fitter.add_data(exp_results)\n",
    "for qubit_list in qubit_lists:\n",
    "    l = len(qubit_list)\n",
    "    print ('qv_depth_'+str(l)+'_trial_0:', qv_fitter._heavy_output_counts['qv_depth_'+str(l)+'_trial_0'])"
   ]
  },
  {
   "cell_type": "markdown",
   "metadata": {},
   "source": [
    "### Step 6: Calculate the achievable depth\n",
    "\n",
    "The probability of observing a heavy output by implementing a randomly selected depth $d$ model circuit is:\n",
    "\n",
    "\n",
    "$$h_d = \\int_U h_U dU$$\n",
    "\n",
    "\n",
    "\n",
    "The *achievable depth* $d(m)$ is the largest $d$ such that we are confident that $h_d > 2/3$. In other words,\n",
    "\n",
    "\n",
    "$$ h_1,h_2,\\dots,h_{d(m)}>2/3 \\text{ and } h_{d(m)+1} \\leq 2/3$$\n",
    "\n",
    "\n",
    "\n",
    "We now convert the heavy outputs in the different trials and calculate the mean $h_d$ and the error for plotting the graph."
   ]
  },
  {
   "cell_type": "code",
   "execution_count": null,
   "metadata": {
    "pycharm": {
     "is_executing": true
    }
   },
   "outputs": [],
   "source": [
    "plt.figure(figsize=(10, 6))\n",
    "ax = plt.gca()\n",
    "\n",
    "# Plot the essence by calling plot_rb_data\n",
    "qv_fitter.plot_qv_data(ax=ax, show_plt=False)\n",
    "\n",
    "# Add title and label\n",
    "ax.set_title('Quantum Volume for up to %d Qubits \\n and %d Trials'%(len(qubit_lists[-1]), ntrials), fontsize=18)\n",
    "\n",
    "plt.show()"
   ]
  },
  {
   "cell_type": "markdown",
   "metadata": {},
   "source": [
    "### Step 7: Calculate the Quantum Volume\n",
    "\n",
    "\n",
    "The quantum volume treats the width and depth of a model circuit with equal importance and measures the largest square-shaped (i.e., $m = d$) model circuit a quantum computer can implement successfully on average. \n",
    "\n",
    "The *quantum volume* $V_Q$ is defined as\n",
    "\n",
    "\n",
    "$$\\log_2 V_Q = \\arg\\max_{m} \\min (m, d(m))$$\n",
    "\n"
   ]
  },
  {
   "cell_type": "markdown",
   "metadata": {},
   "source": [
    "We list the statistics for each depth. For each depth we list if the depth was successful or not and with what confidence interval. For a depth to be successful the confidence interval must be > 97.5%."
   ]
  },
  {
   "cell_type": "code",
   "execution_count": null,
   "metadata": {
    "pycharm": {
     "is_executing": true
    }
   },
   "outputs": [],
   "source": [
    "qv_success_list = qv_fitter.qv_success()\n",
    "qv_list = qv_fitter.ydata\n",
    "QV = 1\n",
    "for qidx, qubit_list in enumerate(qubit_lists):\n",
    "    if qv_list[0][qidx]>2/3:\n",
    "        if qv_success_list[qidx][0]:\n",
    "            print(\"Width/depth %d greater than 2/3 (%f) with confidence %f (successful). Quantum volume %d\"%\n",
    "                  (len(qubit_list),qv_list[0][qidx],qv_success_list[qidx][1],qv_fitter.quantum_volume()[qidx]))\n",
    "            QV = qv_fitter.quantum_volume()[qidx]\n",
    "        else:\n",
    "            print(\"Width/depth %d greater than 2/3 (%f) with confidence %f (unsuccessful).\"%\n",
    "                  (len(qubit_list),qv_list[0][qidx],qv_success_list[qidx][1]))\n",
    "    else:\n",
    "        print(\"Width/depth %d less than 2/3 (unsuccessful).\"%len(qubit_list))"
   ]
  },
  {
   "cell_type": "code",
   "execution_count": null,
   "metadata": {
    "pycharm": {
     "is_executing": true
    }
   },
   "outputs": [],
   "source": [
    "print (\"The Quantum Volume is:\", QV) "
   ]
  },
  {
   "cell_type": "markdown",
   "metadata": {},
   "source": [
    "### References\n",
    "\n",
    "[1] Andrew W. Cross, Lev S. Bishop, Sarah Sheldon, Paul D. Nation, and Jay M. Gambetta, *Validating quantum computers using randomized model circuits*, Phys. Rev. A **100**, 032328 (2019). https://arxiv.org/pdf/1811.12926"
   ]
  },
  {
   "cell_type": "code",
   "execution_count": null,
   "metadata": {
    "scrolled": false,
    "pycharm": {
     "name": "#%%\n",
     "is_executing": true
    }
   },
   "outputs": [],
   "source": [
    "import qiskit.tools.jupyter\n",
    "%qiskit_version_table"
   ]
  },
  {
   "cell_type": "code",
   "execution_count": null,
   "outputs": [],
   "source": [],
   "metadata": {
    "collapsed": false,
    "pycharm": {
     "name": "#%%\n",
     "is_executing": true
    }
   }
  }
 ],
 "metadata": {
  "kernelspec": {
   "display_name": "Python 3",
   "language": "python",
   "name": "python3"
  },
  "language_info": {
   "codemirror_mode": {
    "name": "ipython",
    "version": 3
   },
   "file_extension": ".py",
   "mimetype": "text/x-python",
   "name": "python",
   "nbconvert_exporter": "python",
   "pygments_lexer": "ipython3",
   "version": "3.7.7"
  }
 },
 "nbformat": 4,
 "nbformat_minor": 2
}